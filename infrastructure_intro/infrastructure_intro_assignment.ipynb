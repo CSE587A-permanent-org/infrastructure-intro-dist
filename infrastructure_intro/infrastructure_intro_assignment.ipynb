{
 "cells": [
  {
   "cell_type": "markdown",
   "metadata": {},
   "source": [
    "# The Assignment\n",
    "\n",
    "The purpose of this assignment is to get comfortable using github, \n",
    "github classrooms, and vscode.\n",
    "\n",
    "The instructions for accepting the assignment, launching a github codespace, \n",
    "and turning in the assignment are on Canvas.\n",
    "\n",
    "The code for this assignment, and future assignments, will be in the directory \n",
    "`<assignment_repo_name>/assignment.py`. In this case, that means you'll look \n",
    "in `infrastructure_intro/assignment.py`.\n",
    "\n",
    "The instructions for this assignment are included as a comment in \n",
    "[assignment.py](assignment.py). They are very brief. However, in future\n",
    "assignments there will be instructions in the assignment\n",
    "notebook.\n",
    "\n",
    "## General Tips on Completing Python Assignments\n",
    "\n",
    "- You will *never* turn in code in a notebook for a grade. Graded \n",
    "code goes into the [assignment.py](assignment.py) file.\n",
    "Your goal is to add correct code to [assignment.py](assignment.py)\n",
    "that passes all the tests in [test_assignment.py](test_assignment.py) pass.\n",
    "- The tests that are run when you submit are *exactly* what you see in the\n",
    "[test_assignment.py](test_assignment.py). No changes that you may make to this\n",
    "file will be reflected in the official tests. Thus, we suggest you do not make\n",
    "any changes to [test_assignment.py](test_assignment.py) lest you be surprised\n",
    "at the autograder result.\n",
    "\n",
    "You are welcome to use this notebook, and future assignment \n",
    "notebooks, as scratch space. In some labs, they will also contain questions for\n",
    "you to answer or expression to be evaluated. Just remember they won't be autograded\n",
    "nor will any code you write in them be manually graded."
   ]
  }
 ],
 "metadata": {
  "kernelspec": {
   "display_name": "Python 3 (ipykernel)",
   "language": "python",
   "name": "python3"
  },
  "language_info": {
   "codemirror_mode": {
    "name": "ipython",
    "version": 3
   },
   "file_extension": ".py",
   "mimetype": "text/x-python",
   "name": "python",
   "nbconvert_exporter": "python",
   "pygments_lexer": "ipython3",
   "version": "3.9.6"
  }
 },
 "nbformat": 4,
 "nbformat_minor": 2
}
